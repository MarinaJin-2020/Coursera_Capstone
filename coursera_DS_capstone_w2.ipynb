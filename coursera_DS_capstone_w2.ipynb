{
 "nbformat": 4,
 "nbformat_minor": 2,
 "metadata": {
  "language_info": {
   "name": "python",
   "codemirror_mode": {
    "name": "ipython",
    "version": 3
   },
   "version": "3.7.4-final"
  },
  "orig_nbformat": 2,
  "file_extension": ".py",
  "mimetype": "text/x-python",
  "name": "python",
  "npconvert_exporter": "python",
  "pygments_lexer": "ipython3",
  "version": 3,
  "kernelspec": {
   "name": "python37464bitvenvvirtualenvca95702e42dc4717b12011ae9c974e23",
   "display_name": "Python 3.7.4 64-bit ('venv': virtualenv)"
  }
 },
 "cells": [
  {
   "cell_type": "code",
   "execution_count": 2,
   "metadata": {},
   "outputs": [],
   "source": [
    "import pandas as pd\n",
    "import numpy as np"
   ]
  },
  {
   "cell_type": "markdown",
   "metadata": {},
   "source": [
    "<h3> Objective: </h3> \n",
    "\n",
    "The objective of the project is to build a predictive model to analyse the severity level if a car accident occurs in certain natural environment. The environment considers weather, road condition, light condition, etc. This would help individuals make better traveling decisions in bad conditions."
   ]
  },
  {
   "cell_type": "markdown",
   "metadata": {},
   "source": [
    "<h3> Data: </h3>\n",
    "<p> The features to predict the severity of an accident are: \n",
    "<ul>\n",
    "    <li>\"ADDRTYPE\"</li>\n",
    "    <li>\"WEATHER\"</li>\n",
    "    <li>\"ROADCOND\"</li>\n",
    "    <li>\"LIGHTCOND\"</li>\n",
    "</ul>\n",
    "The prediction is: \"SEVERITYDESC\".\n",
    "\n",
    "The dataframe is like below: </p>"
   ]
  },
  {
   "cell_type": "code",
   "execution_count": 3,
   "metadata": {},
   "outputs": [
    {
     "output_type": "execute_result",
     "data": {
      "text/plain": "       ADDRTYPE   WEATHER ROADCOND                LIGHTCOND  \\\n0  Intersection  Overcast      Wet                 Daylight   \n1         Block   Raining      Wet  Dark - Street Lights On   \n2         Block  Overcast      Dry                 Daylight   \n3         Block     Clear      Dry                 Daylight   \n4  Intersection   Raining      Wet                 Daylight   \n\n                     SEVERITYDESC  \n0                Injury Collision  \n1  Property Damage Only Collision  \n2  Property Damage Only Collision  \n3  Property Damage Only Collision  \n4                Injury Collision  ",
      "text/html": "<div>\n<style scoped>\n    .dataframe tbody tr th:only-of-type {\n        vertical-align: middle;\n    }\n\n    .dataframe tbody tr th {\n        vertical-align: top;\n    }\n\n    .dataframe thead th {\n        text-align: right;\n    }\n</style>\n<table border=\"1\" class=\"dataframe\">\n  <thead>\n    <tr style=\"text-align: right;\">\n      <th></th>\n      <th>ADDRTYPE</th>\n      <th>WEATHER</th>\n      <th>ROADCOND</th>\n      <th>LIGHTCOND</th>\n      <th>SEVERITYDESC</th>\n    </tr>\n  </thead>\n  <tbody>\n    <tr>\n      <th>0</th>\n      <td>Intersection</td>\n      <td>Overcast</td>\n      <td>Wet</td>\n      <td>Daylight</td>\n      <td>Injury Collision</td>\n    </tr>\n    <tr>\n      <th>1</th>\n      <td>Block</td>\n      <td>Raining</td>\n      <td>Wet</td>\n      <td>Dark - Street Lights On</td>\n      <td>Property Damage Only Collision</td>\n    </tr>\n    <tr>\n      <th>2</th>\n      <td>Block</td>\n      <td>Overcast</td>\n      <td>Dry</td>\n      <td>Daylight</td>\n      <td>Property Damage Only Collision</td>\n    </tr>\n    <tr>\n      <th>3</th>\n      <td>Block</td>\n      <td>Clear</td>\n      <td>Dry</td>\n      <td>Daylight</td>\n      <td>Property Damage Only Collision</td>\n    </tr>\n    <tr>\n      <th>4</th>\n      <td>Intersection</td>\n      <td>Raining</td>\n      <td>Wet</td>\n      <td>Daylight</td>\n      <td>Injury Collision</td>\n    </tr>\n  </tbody>\n</table>\n</div>"
     },
     "metadata": {},
     "execution_count": 3
    }
   ],
   "source": [
    "df = pd.read_csv(\"Data-Collisions.csv\")\n",
    "df = df[[\"ADDRTYPE\", \"WEATHER\", \"ROADCOND\", \"LIGHTCOND\", \"SEVERITYDESC\"]]\n",
    "df.head()"
   ]
  },
  {
   "cell_type": "code",
   "execution_count": null,
   "metadata": {},
   "outputs": [],
   "source": []
  }
 ]
}