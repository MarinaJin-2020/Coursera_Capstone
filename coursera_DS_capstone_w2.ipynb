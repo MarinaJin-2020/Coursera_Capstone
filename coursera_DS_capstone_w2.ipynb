{
 "nbformat": 4,
 "nbformat_minor": 2,
 "metadata": {
  "language_info": {
   "name": "python",
   "codemirror_mode": {
    "name": "ipython",
    "version": 3
   },
   "version": "3.7.4-final"
  },
  "orig_nbformat": 2,
  "file_extension": ".py",
  "mimetype": "text/x-python",
  "name": "python",
  "npconvert_exporter": "python",
  "pygments_lexer": "ipython3",
  "version": 3,
  "kernelspec": {
   "name": "python37464bitvenvvirtualenvca95702e42dc4717b12011ae9c974e23",
   "display_name": "Python 3.7.4 64-bit ('venv': virtualenv)"
  }
 },
 "cells": [
  {
   "cell_type": "markdown",
   "metadata": {},
   "source": [
    "<h3> Objective: </h3> \n",
    "\n",
    "The objective of the project is to build a predictive model to analyse the severity level if a car accident occurs in certain natural environment. The environment considers weather, road condition, light condition, etc. This would help individuals make better traveling decisions in bad conditions."
   ]
  },
  {
   "cell_type": "markdown",
   "metadata": {},
   "source": [
    "<h3> Data: </h3>\n",
    "<p> The features to predict the severity of an accident are: \n",
    "1. \"ADDRTYPE\"\n",
    "2. \"WEATHER\"\n",
    "3. \"ROADCOND\"\n",
    "4. \"LIGHTCOND\". \n",
    "The prediction is: \"SEVERITYDESC\".capitalize\n",
    "The dataframe is like below: </p>"
   ]
  }
 ]
}